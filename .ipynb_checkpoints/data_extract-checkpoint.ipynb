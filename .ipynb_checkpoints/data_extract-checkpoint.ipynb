{
 "cells": [
  {
   "cell_type": "code",
   "execution_count": 1,
   "id": "a6eaeebf",
   "metadata": {},
   "outputs": [],
   "source": [
    "# Libraries\n",
    "\n",
    "# Access astronomical databases\n",
    "from pyvo import registry  # version >=1.6\n",
    "\n",
    "# Moc and HEALPix tools\n",
    "from mocpy import MOC\n",
    "\n",
    "# Coordinates manipulation\n",
    "from astropy.coordinates import SkyCoord\n",
    "\n",
    "# Sky visualization\n",
    "from ipyaladin import Aladin  # version >=0.4.0\n",
    "\n",
    "# For plots\n",
    "import matplotlib.pyplot as plt\n",
    "\n",
    "# Numerical Tools\n",
    "import numpy as np\n",
    "\n",
    "# Save to json files\n",
    "import json"
   ]
  },
  {
   "cell_type": "code",
   "execution_count": 2,
   "id": "95888801",
   "metadata": {},
   "outputs": [],
   "source": [
    "# the catalogue name in VizieR\n",
    "CATALOGUE = \"J/ApJS/266/14\""
   ]
  },
  {
   "cell_type": "markdown",
   "id": "26ad3c69",
   "metadata": {},
   "source": [
    "We first retrieve the catalogue information."
   ]
  },
  {
   "cell_type": "code",
   "execution_count": 3,
   "id": "6db57e6b",
   "metadata": {},
   "outputs": [],
   "source": [
    "# each resource in the VO has an identifier, called ivoid. For vizier catalogs,\n",
    "# the VO ids can be constructed like this:\n",
    "catalogue_ivoid = f\"ivo://CDS.VizieR/{CATALOGUE}\"\n",
    "# the actual query to the registry\n",
    "voresource = registry.search(ivoid=catalogue_ivoid)[0]"
   ]
  },
  {
   "cell_type": "code",
   "execution_count": 4,
   "id": "f3e975e3",
   "metadata": {},
   "outputs": [
    {
     "name": "stdout",
     "output_type": "stream",
     "text": [
      "Am stars selected in LAMOST DR8-DR10\n",
      "Short Name: J/ApJS/266/14\n",
      "IVOA Identifier: ivo://cds.vizier/j/apjs/266/14\n",
      "Access modes: conesearch, tap#aux\n",
      "- tap#aux: https://tapvizier.cds.unistra.fr/TAPVizieR/tap\n",
      "- conesearch: https://vizier.cds.unistra.fr/viz-\n",
      " bin/conesearch/J/ApJS/266/14/table1?, description: Cone search capability for\n",
      " table J/ApJS/266/14/table1 (The new catalog of the Am candidates based on\n",
      " LAMOST)\n",
      "- conesearch: https://vizier.cds.unistra.fr/viz-\n",
      " bin/conesearch/J/ApJS/266/14/table2?, description: Cone search capability for\n",
      " table J/ApJS/266/14/table2 (The new catalog of eclipsing Am binary candidates\n",
      " based on LAMOST)\n",
      "- conesearch: https://vizier.cds.unistra.fr/viz-\n",
      " bin/conesearch/J/ApJS/266/14/table3?, description: Cone search capability for\n",
      " table J/ApJS/266/14/table3 (The catalog of the eclipsing Am binary candidates\n",
      " based on the known Am catalogs and cross-match results)\n",
      "\n",
      "A total of about 21,600 Am candidates were detected with the MKCLASS code\n",
      "based on the low-resolution spectra of the Large Sky Area Multi-Object Fiber\n",
      "Spectroscopic Telescope Data Releases 8 (v1.0), 9 (v0), and 10 (v0), which\n",
      "greatly expands the database of Am-type stars. By crossmatching the known\n",
      "catalogs of Am stars and our Am candidates with the AAVSO International\n",
      "Variable Star Index catalog, a catalog of the largest eclipsing Am binaries\n",
      "was obtained, which includes 754 binaries and provides a substantial sample\n",
      "with which to study Am stars. Fundamental information, including atmospheric\n",
      "parameters of the two kinds of candidates, are collected and listed in the\n",
      "catalogs, such as temperature, log g, and metallicity. We further carried out\n",
      "statistical analysis of the types of parameters. In our new catalog, there are\n",
      "some Am candidates with a temperature lower than 7000 K and some eclipsing Am\n",
      "binary candidates with a period of less than 1 day, which poses challenges to\n",
      "the slow rotation of stars classified as type Am observed in previous\n",
      "research. These candidates are significant and provide a great opportunity to\n",
      "explore the real relationship between Am-type stars' peculiarity and slow\n",
      "stellar rotation. The Hertzsprung-Russell diagram of Am stars and the primary\n",
      "stars of eclipsing Am binary candidates indicate that a majority of the Am\n",
      "stars and almost all primary stars of binaries are in or around the main-\n",
      "sequence evolution stage.\n",
      "\n",
      "Waveband Coverage: optical\n",
      "\n",
      "Source: 2023ApJS..266...14T\n",
      "Authors: Tian X.-M.,  Wang Z.-H.,  Zhu L.-Y.,  Yang X.-L.\n",
      "More info: https://cdsarc.cds.unistra.fr/viz-bin/cat/J/ApJS/266/14\n"
     ]
    }
   ],
   "source": [
    "# We can print metadata information about the catalogue\n",
    "voresource.describe(verbose=True)"
   ]
  },
  {
   "cell_type": "markdown",
   "id": "bd2a7ae3",
   "metadata": {},
   "source": [
    "We can also inspect in details the `resource` object and access the attributes not provided by the describe method. See for example, the first author of a resource: "
   ]
  },
  {
   "cell_type": "code",
   "execution_count": 5,
   "id": "f5a53605",
   "metadata": {},
   "outputs": [
    {
     "data": {
      "text/plain": [
       "'Tian X.-M.'"
      ]
     },
     "execution_count": 5,
     "metadata": {},
     "output_type": "execute_result"
    }
   ],
   "source": [
    "voresource.creators[0]"
   ]
  },
  {
   "cell_type": "markdown",
   "id": "5a457510",
   "metadata": {},
   "source": [
    "## 3. Access the tabular data of this catalog\n",
    "\n",
    "We can have a look at the tables available in the catalogue."
   ]
  },
  {
   "cell_type": "code",
   "execution_count": 6,
   "id": "92ebe10f",
   "metadata": {},
   "outputs": [
    {
     "name": "stderr",
     "output_type": "stream",
     "text": [
      "WARNING: W02: ?:?:?: W02: '' is not a valid datatype according to the VOSI spec [pyvo.io.vosi.vodataservice]\n"
     ]
    },
    {
     "name": "stdout",
     "output_type": "stream",
     "text": [
      "In this catalogue, we have 3 tables.\n",
      "J/ApJS/266/14/table1: The new catalog of the Am candidates based on LAMOST\n",
      "J/ApJS/266/14/table2: The new catalog of eclipsing Am binary candidates based on LAMOST\n",
      "J/ApJS/266/14/table3: The catalog of the eclipsing Am binary candidates based on the known Am catalogs and cross-match results\n"
     ]
    }
   ],
   "source": [
    "tables = voresource.get_tables()\n",
    "print(f\"In this catalogue, we have {len(tables)} tables.\")\n",
    "for table_name, table in tables.items():\n",
    "    print(f\"{table_name}: {table.description}\")"
   ]
  },
  {
   "cell_type": "code",
   "execution_count": 7,
   "id": "81514878",
   "metadata": {},
   "outputs": [
    {
     "data": {
      "text/plain": [
       "['J/ApJS/266/14/table1', 'J/ApJS/266/14/table2', 'J/ApJS/266/14/table3']"
      ]
     },
     "execution_count": 7,
     "metadata": {},
     "output_type": "execute_result"
    }
   ],
   "source": [
    "# We can also extract the tables names for later use\n",
    "tables_names = list(tables.keys())\n",
    "tables_names"
   ]
  },
  {
   "cell_type": "markdown",
   "id": "eedac527",
   "metadata": {},
   "source": [
    "The actual data can then be accessed using any of the ``access_modes`` of the voresource."
   ]
  },
  {
   "cell_type": "code",
   "execution_count": 8,
   "id": "32db444e",
   "metadata": {},
   "outputs": [
    {
     "data": {
      "text/plain": [
       "{'conesearch', 'tap#aux'}"
      ]
     },
     "execution_count": 8,
     "metadata": {},
     "output_type": "execute_result"
    }
   ],
   "source": [
    "voresource.access_modes()"
   ]
  },
  {
   "cell_type": "markdown",
   "id": "4a7dd42f",
   "metadata": {},
   "source": [
    "The web access is found by following the ``reference_url``"
   ]
  },
  {
   "cell_type": "code",
   "execution_count": 9,
   "id": "545f9bf8",
   "metadata": {},
   "outputs": [
    {
     "data": {
      "text/plain": [
       "'https://cdsarc.cds.unistra.fr/viz-bin/cat/J/ApJS/266/14'"
      ]
     },
     "execution_count": 9,
     "metadata": {},
     "output_type": "execute_result"
    }
   ],
   "source": [
    "voresource.reference_url"
   ]
  },
  {
   "cell_type": "markdown",
   "id": "abee6ce7",
   "metadata": {},
   "source": [
    "### 3.1 Execute a SQL/ADQL query\n",
    "\n",
    "The ``tap#aux`` in the ``access_mode`` response indicates that we can also do a SQL/ADQL query for these VizieR tables.\n",
    "\n",
    "On the first table of the catalogue, we execute an <a href='https://www.ivoa.net/documents/latest/ADQL.html'>ADQL</a> query."
   ]
  },
  {
   "cell_type": "code",
   "execution_count": 17,
   "id": "a6286fc3-9b7e-4e9b-a5fd-e9e92a00f640",
   "metadata": {},
   "outputs": [
    {
     "name": "stdout",
     "output_type": "stream",
     "text": [
      "The history saving thread hit an unexpected error (OperationalError('attempt to write a readonly database')).History will not be written to the database.\n"
     ]
    },
    {
     "data": {
      "text/html": [
       "<div><i>Table length=21635</i>\n",
       "<table id=\"table132265732101248\" class=\"table-striped table-bordered table-condensed\">\n",
       "<thead><tr><th>recno</th><th>subCl</th><th>SpT</th><th>Teff1</th><th>logg1</th><th>FeH1</th><th>Vmag</th><th>Teff2</th><th>logg2</th><th>FeH2</th><th>Rad</th><th>Mass</th><th>Lum</th></tr></thead>\n",
       "<thead><tr><th></th><th></th><th></th><th>K</th><th>log(cm.s**-2)</th><th>log(Sun)</th><th>mag</th><th>K</th><th>log(cm.s**-2)</th><th>log(Sun)</th><th>Rsun</th><th>Msun</th><th>Lsun</th></tr></thead>\n",
       "<thead><tr><th>int32</th><th>object</th><th>object</th><th>int16</th><th>float64</th><th>float64</th><th>float64</th><th>int16</th><th>float64</th><th>float64</th><th>float64</th><th>float64</th><th>float64</th></tr></thead>\n",
       "<tr><td>1</td><td>F0</td><td>kA7hF3mF2</td><td>7080</td><td>4.178</td><td>-0.148</td><td>10.907</td><td>7078</td><td>3.475</td><td>-0.151</td><td>3.797</td><td>1.57</td><td>32.60238</td></tr>\n",
       "<tr><td>2</td><td>A6IV</td><td>kA7hF0mF0</td><td>7404</td><td>4.069</td><td>0.031</td><td>10.41</td><td>7405</td><td>4.2137</td><td>0.032</td><td>1.684</td><td>1.691</td><td>7.68098</td></tr>\n",
       "<tr><td>3</td><td>F0</td><td>kA7hF1mF0</td><td>7330</td><td>4.102</td><td>-0.133</td><td>14.155</td><td>7331</td><td>4.3672</td><td>-0.133</td><td>1.398</td><td>1.66</td><td>5.08514</td></tr>\n",
       "<tr><td>4</td><td>A7V</td><td>kA5hA4mA9</td><td>7218</td><td>4.182</td><td>-0.3</td><td>13.497</td><td>7220</td><td>4.2537</td><td>-0.301</td><td>1.574</td><td>1.62</td><td>6.06511</td></tr>\n",
       "<tr><td>5</td><td>A7V</td><td>kA2hA8mA9</td><td>--</td><td>--</td><td>--</td><td>12.552</td><td>7667</td><td>3.9027</td><td>--</td><td>2.485</td><td>1.8</td><td>19.22473</td></tr>\n",
       "<tr><td>6</td><td>A1IV</td><td>kA1hA2mA3</td><td>--</td><td>--</td><td>--</td><td>12.677</td><td>7915</td><td>3.6621</td><td>--</td><td>3.368</td><td>1.9</td><td>40.1118</td></tr>\n",
       "<tr><td>7</td><td>A7V</td><td>kA4hA8mA9</td><td>--</td><td>--</td><td>--</td><td>--</td><td>--</td><td>--</td><td>--</td><td>--</td><td>--</td><td>--</td></tr>\n",
       "<tr><td>8</td><td>A3IV</td><td>kA3hA8mA7</td><td>--</td><td>--</td><td>--</td><td>13.114</td><td>7079</td><td>3.2688</td><td>-0.465</td><td>4.815</td><td>1.57</td><td>52.46422</td></tr>\n",
       "<tr><td>9</td><td>F0</td><td>kA6hA9mF0</td><td>7500</td><td>3.9</td><td>0.185</td><td>11.148</td><td>7495</td><td>--</td><td>0.181</td><td>2.564</td><td>--</td><td>--</td></tr>\n",
       "<tr><td>...</td><td>...</td><td>...</td><td>...</td><td>...</td><td>...</td><td>...</td><td>...</td><td>...</td><td>...</td><td>...</td><td>...</td><td>...</td></tr>\n",
       "<tr><td>21627</td><td>A2IV</td><td>kA1hA3mA3</td><td>--</td><td>--</td><td>--</td><td>13.345</td><td>8106</td><td>4.0429</td><td>--</td><td>2.212</td><td>1.97</td><td>19.03658</td></tr>\n",
       "<tr><td>21628</td><td>F0</td><td>kA6hF1mF0</td><td>7145</td><td>4.114</td><td>-0.275</td><td>14.575</td><td>7153</td><td>4.3207</td><td>-0.273</td><td>1.448</td><td>1.6</td><td>4.94327</td></tr>\n",
       "<tr><td>21629</td><td>F0</td><td>kA7hA9mF1</td><td>7348</td><td>4.05</td><td>-0.132</td><td>15.263</td><td>7350</td><td>4.1327</td><td>-0.133</td><td>1.837</td><td>1.67</td><td>8.8695</td></tr>\n",
       "<tr><td>21630</td><td>F0</td><td>kA8hA9mF2</td><td>7175</td><td>3.849</td><td>0.304</td><td>11.183</td><td>6986</td><td>3.6782</td><td>--</td><td>2.967</td><td>1.53</td><td>18.8854</td></tr>\n",
       "<tr><td>21631</td><td>F0</td><td>kA7hF0mF0</td><td>7357</td><td>3.913</td><td>0.236</td><td>13.035</td><td>7358</td><td>3.7906</td><td>0.235</td><td>2.723</td><td>1.67</td><td>19.58132</td></tr>\n",
       "<tr><td>21632</td><td>F0</td><td>kA2hF0mF2</td><td>7380</td><td>3.836</td><td>0.559</td><td>14.341</td><td>6798</td><td>3.8803</td><td>--</td><td>2.296</td><td>1.46</td><td>10.14622</td></tr>\n",
       "<tr><td>21633</td><td>F0</td><td>kA7hF2mF0</td><td>7061</td><td>4.112</td><td>-0.371</td><td>15.425</td><td>6974</td><td>4.1349</td><td>--</td><td>1.754</td><td>1.53</td><td>6.55372</td></tr>\n",
       "<tr><td>21634</td><td>A7</td><td>kA3hA5mA7</td><td>--</td><td>--</td><td>--</td><td>15.866</td><td>6228</td><td>4.568</td><td>--</td><td>0.943</td><td>1.2</td><td>1.20602</td></tr>\n",
       "<tr><td>21635</td><td>F0</td><td>kA5hA7mA9</td><td>7393</td><td>4.038</td><td>-0.147</td><td>12.29</td><td>7394</td><td>4.2558</td><td>-0.145</td><td>1.603</td><td>1.69</td><td>6.92185</td></tr>\n",
       "</table></div>"
      ],
      "text/plain": [
       "<Table length=21635>\n",
       "recno subCl     SpT    Teff1     logg1     ...   FeH2     Rad     Mass    Lum   \n",
       "                         K   log(cm.s**-2) ... log(Sun)   Rsun    Msun    Lsun  \n",
       "int32 object   object  int16    float64    ... float64  float64 float64 float64 \n",
       "----- ------ --------- ----- ------------- ... -------- ------- ------- --------\n",
       "    1     F0 kA7hF3mF2  7080         4.178 ...   -0.151   3.797    1.57 32.60238\n",
       "    2   A6IV kA7hF0mF0  7404         4.069 ...    0.032   1.684   1.691  7.68098\n",
       "    3     F0 kA7hF1mF0  7330         4.102 ...   -0.133   1.398    1.66  5.08514\n",
       "    4    A7V kA5hA4mA9  7218         4.182 ...   -0.301   1.574    1.62  6.06511\n",
       "    5    A7V kA2hA8mA9    --            -- ...       --   2.485     1.8 19.22473\n",
       "    6   A1IV kA1hA2mA3    --            -- ...       --   3.368     1.9  40.1118\n",
       "    7    A7V kA4hA8mA9    --            -- ...       --      --      --       --\n",
       "    8   A3IV kA3hA8mA7    --            -- ...   -0.465   4.815    1.57 52.46422\n",
       "    9     F0 kA6hA9mF0  7500           3.9 ...    0.181   2.564      --       --\n",
       "  ...    ...       ...   ...           ... ...      ...     ...     ...      ...\n",
       "21627   A2IV kA1hA3mA3    --            -- ...       --   2.212    1.97 19.03658\n",
       "21628     F0 kA6hF1mF0  7145         4.114 ...   -0.273   1.448     1.6  4.94327\n",
       "21629     F0 kA7hA9mF1  7348          4.05 ...   -0.133   1.837    1.67   8.8695\n",
       "21630     F0 kA8hA9mF2  7175         3.849 ...       --   2.967    1.53  18.8854\n",
       "21631     F0 kA7hF0mF0  7357         3.913 ...    0.235   2.723    1.67 19.58132\n",
       "21632     F0 kA2hF0mF2  7380         3.836 ...       --   2.296    1.46 10.14622\n",
       "21633     F0 kA7hF2mF0  7061         4.112 ...       --   1.754    1.53  6.55372\n",
       "21634     A7 kA3hA5mA7    --            -- ...       --   0.943     1.2  1.20602\n",
       "21635     F0 kA5hA7mA9  7393         4.038 ...   -0.145   1.603    1.69  6.92185"
      ]
     },
     "execution_count": 17,
     "metadata": {},
     "output_type": "execute_result"
    }
   ],
   "source": [
    "# get the first table of the catalogue\n",
    "first_table_name = tables_names[0]\n",
    "\n",
    "# execute a synchronous ADQL query\n",
    "tap_service = voresource.get_service(\"tap\")\n",
    "tap_records = tap_service.search(\n",
    "    f\"\"\"SELECT recno, subCl, SpT, Teff1, logg1, FeH1, Vmag, Teff2\n",
    "    , logg2, FeH2, Rad, Mass, Lum FROM \"{first_table_name}\"\n",
    "    ORDER BY recno\"\"\",\n",
    ")         \n",
    "\n",
    "# f\"\"\"SELECT recno, subCl, SpT, Teff1, e_Teff1, logg1, e_logg1, FeH1, e_FeH1, Vmag, e_Vmag, Teff2, s_Teff2\n",
    "#     , logg2, s_logg2, FeH2, e_FeH2, Rad, s_Rad, Mass, s_Mass, Lum, s_Lum FROM \"{first_table_name}\"\n",
    "#     ORDER BY recno\"\"\"\n",
    "\n",
    "\n",
    "tap_records.to_table()"
   ]
  },
  {
   "cell_type": "markdown",
   "id": "8a5741ea-e3d1-4da2-a835-84f9eb7647d2",
   "metadata": {},
   "source": [
    "It is convenient to store the data in a .json file, which we now implement."
   ]
  },
  {
   "cell_type": "code",
   "execution_count": 18,
   "id": "8cc7a9f0-f4f9-4a60-85c3-a3bc1963bba3",
   "metadata": {},
   "outputs": [
    {
     "data": {
      "text/html": [
       "<div>\n",
       "<style scoped>\n",
       "    .dataframe tbody tr th:only-of-type {\n",
       "        vertical-align: middle;\n",
       "    }\n",
       "\n",
       "    .dataframe tbody tr th {\n",
       "        vertical-align: top;\n",
       "    }\n",
       "\n",
       "    .dataframe thead th {\n",
       "        text-align: right;\n",
       "    }\n",
       "</style>\n",
       "<table border=\"1\" class=\"dataframe\">\n",
       "  <thead>\n",
       "    <tr style=\"text-align: right;\">\n",
       "      <th></th>\n",
       "      <th>recno</th>\n",
       "      <th>subCl</th>\n",
       "      <th>SpT</th>\n",
       "      <th>Teff1</th>\n",
       "      <th>logg1</th>\n",
       "      <th>FeH1</th>\n",
       "      <th>Vmag</th>\n",
       "      <th>Teff2</th>\n",
       "      <th>logg2</th>\n",
       "      <th>FeH2</th>\n",
       "      <th>Rad</th>\n",
       "      <th>Mass</th>\n",
       "      <th>Lum</th>\n",
       "    </tr>\n",
       "  </thead>\n",
       "  <tbody>\n",
       "    <tr>\n",
       "      <th>0</th>\n",
       "      <td>1</td>\n",
       "      <td>F0</td>\n",
       "      <td>kA7hF3mF2</td>\n",
       "      <td>7080</td>\n",
       "      <td>4.178</td>\n",
       "      <td>-0.148</td>\n",
       "      <td>10.907</td>\n",
       "      <td>7078</td>\n",
       "      <td>3.4750</td>\n",
       "      <td>-0.151</td>\n",
       "      <td>3.797</td>\n",
       "      <td>1.570</td>\n",
       "      <td>32.60238</td>\n",
       "    </tr>\n",
       "    <tr>\n",
       "      <th>1</th>\n",
       "      <td>2</td>\n",
       "      <td>A6IV</td>\n",
       "      <td>kA7hF0mF0</td>\n",
       "      <td>7404</td>\n",
       "      <td>4.069</td>\n",
       "      <td>0.031</td>\n",
       "      <td>10.410</td>\n",
       "      <td>7405</td>\n",
       "      <td>4.2137</td>\n",
       "      <td>0.032</td>\n",
       "      <td>1.684</td>\n",
       "      <td>1.691</td>\n",
       "      <td>7.68098</td>\n",
       "    </tr>\n",
       "    <tr>\n",
       "      <th>2</th>\n",
       "      <td>3</td>\n",
       "      <td>F0</td>\n",
       "      <td>kA7hF1mF0</td>\n",
       "      <td>7330</td>\n",
       "      <td>4.102</td>\n",
       "      <td>-0.133</td>\n",
       "      <td>14.155</td>\n",
       "      <td>7331</td>\n",
       "      <td>4.3672</td>\n",
       "      <td>-0.133</td>\n",
       "      <td>1.398</td>\n",
       "      <td>1.660</td>\n",
       "      <td>5.08514</td>\n",
       "    </tr>\n",
       "    <tr>\n",
       "      <th>3</th>\n",
       "      <td>4</td>\n",
       "      <td>A7V</td>\n",
       "      <td>kA5hA4mA9</td>\n",
       "      <td>7218</td>\n",
       "      <td>4.182</td>\n",
       "      <td>-0.300</td>\n",
       "      <td>13.497</td>\n",
       "      <td>7220</td>\n",
       "      <td>4.2537</td>\n",
       "      <td>-0.301</td>\n",
       "      <td>1.574</td>\n",
       "      <td>1.620</td>\n",
       "      <td>6.06511</td>\n",
       "    </tr>\n",
       "    <tr>\n",
       "      <th>4</th>\n",
       "      <td>5</td>\n",
       "      <td>A7V</td>\n",
       "      <td>kA2hA8mA9</td>\n",
       "      <td>&lt;NA&gt;</td>\n",
       "      <td>NaN</td>\n",
       "      <td>NaN</td>\n",
       "      <td>12.552</td>\n",
       "      <td>7667</td>\n",
       "      <td>3.9027</td>\n",
       "      <td>NaN</td>\n",
       "      <td>2.485</td>\n",
       "      <td>1.800</td>\n",
       "      <td>19.22473</td>\n",
       "    </tr>\n",
       "    <tr>\n",
       "      <th>...</th>\n",
       "      <td>...</td>\n",
       "      <td>...</td>\n",
       "      <td>...</td>\n",
       "      <td>...</td>\n",
       "      <td>...</td>\n",
       "      <td>...</td>\n",
       "      <td>...</td>\n",
       "      <td>...</td>\n",
       "      <td>...</td>\n",
       "      <td>...</td>\n",
       "      <td>...</td>\n",
       "      <td>...</td>\n",
       "      <td>...</td>\n",
       "    </tr>\n",
       "    <tr>\n",
       "      <th>21630</th>\n",
       "      <td>21631</td>\n",
       "      <td>F0</td>\n",
       "      <td>kA7hF0mF0</td>\n",
       "      <td>7357</td>\n",
       "      <td>3.913</td>\n",
       "      <td>0.236</td>\n",
       "      <td>13.035</td>\n",
       "      <td>7358</td>\n",
       "      <td>3.7906</td>\n",
       "      <td>0.235</td>\n",
       "      <td>2.723</td>\n",
       "      <td>1.670</td>\n",
       "      <td>19.58132</td>\n",
       "    </tr>\n",
       "    <tr>\n",
       "      <th>21631</th>\n",
       "      <td>21632</td>\n",
       "      <td>F0</td>\n",
       "      <td>kA2hF0mF2</td>\n",
       "      <td>7380</td>\n",
       "      <td>3.836</td>\n",
       "      <td>0.559</td>\n",
       "      <td>14.341</td>\n",
       "      <td>6798</td>\n",
       "      <td>3.8803</td>\n",
       "      <td>NaN</td>\n",
       "      <td>2.296</td>\n",
       "      <td>1.460</td>\n",
       "      <td>10.14622</td>\n",
       "    </tr>\n",
       "    <tr>\n",
       "      <th>21632</th>\n",
       "      <td>21633</td>\n",
       "      <td>F0</td>\n",
       "      <td>kA7hF2mF0</td>\n",
       "      <td>7061</td>\n",
       "      <td>4.112</td>\n",
       "      <td>-0.371</td>\n",
       "      <td>15.425</td>\n",
       "      <td>6974</td>\n",
       "      <td>4.1349</td>\n",
       "      <td>NaN</td>\n",
       "      <td>1.754</td>\n",
       "      <td>1.530</td>\n",
       "      <td>6.55372</td>\n",
       "    </tr>\n",
       "    <tr>\n",
       "      <th>21633</th>\n",
       "      <td>21634</td>\n",
       "      <td>A7</td>\n",
       "      <td>kA3hA5mA7</td>\n",
       "      <td>&lt;NA&gt;</td>\n",
       "      <td>NaN</td>\n",
       "      <td>NaN</td>\n",
       "      <td>15.866</td>\n",
       "      <td>6228</td>\n",
       "      <td>4.5680</td>\n",
       "      <td>NaN</td>\n",
       "      <td>0.943</td>\n",
       "      <td>1.200</td>\n",
       "      <td>1.20602</td>\n",
       "    </tr>\n",
       "    <tr>\n",
       "      <th>21634</th>\n",
       "      <td>21635</td>\n",
       "      <td>F0</td>\n",
       "      <td>kA5hA7mA9</td>\n",
       "      <td>7393</td>\n",
       "      <td>4.038</td>\n",
       "      <td>-0.147</td>\n",
       "      <td>12.290</td>\n",
       "      <td>7394</td>\n",
       "      <td>4.2558</td>\n",
       "      <td>-0.145</td>\n",
       "      <td>1.603</td>\n",
       "      <td>1.690</td>\n",
       "      <td>6.92185</td>\n",
       "    </tr>\n",
       "  </tbody>\n",
       "</table>\n",
       "<p>21635 rows × 13 columns</p>\n",
       "</div>"
      ],
      "text/plain": [
       "       recno subCl        SpT  Teff1  logg1   FeH1    Vmag  Teff2   logg2  \\\n",
       "0          1    F0  kA7hF3mF2   7080  4.178 -0.148  10.907   7078  3.4750   \n",
       "1          2  A6IV  kA7hF0mF0   7404  4.069  0.031  10.410   7405  4.2137   \n",
       "2          3    F0  kA7hF1mF0   7330  4.102 -0.133  14.155   7331  4.3672   \n",
       "3          4   A7V  kA5hA4mA9   7218  4.182 -0.300  13.497   7220  4.2537   \n",
       "4          5   A7V  kA2hA8mA9   <NA>    NaN    NaN  12.552   7667  3.9027   \n",
       "...      ...   ...        ...    ...    ...    ...     ...    ...     ...   \n",
       "21630  21631    F0  kA7hF0mF0   7357  3.913  0.236  13.035   7358  3.7906   \n",
       "21631  21632    F0  kA2hF0mF2   7380  3.836  0.559  14.341   6798  3.8803   \n",
       "21632  21633    F0  kA7hF2mF0   7061  4.112 -0.371  15.425   6974  4.1349   \n",
       "21633  21634    A7  kA3hA5mA7   <NA>    NaN    NaN  15.866   6228  4.5680   \n",
       "21634  21635    F0  kA5hA7mA9   7393  4.038 -0.147  12.290   7394  4.2558   \n",
       "\n",
       "        FeH2    Rad   Mass       Lum  \n",
       "0     -0.151  3.797  1.570  32.60238  \n",
       "1      0.032  1.684  1.691   7.68098  \n",
       "2     -0.133  1.398  1.660   5.08514  \n",
       "3     -0.301  1.574  1.620   6.06511  \n",
       "4        NaN  2.485  1.800  19.22473  \n",
       "...      ...    ...    ...       ...  \n",
       "21630  0.235  2.723  1.670  19.58132  \n",
       "21631    NaN  2.296  1.460  10.14622  \n",
       "21632    NaN  1.754  1.530   6.55372  \n",
       "21633    NaN  0.943  1.200   1.20602  \n",
       "21634 -0.145  1.603  1.690   6.92185  \n",
       "\n",
       "[21635 rows x 13 columns]"
      ]
     },
     "execution_count": 18,
     "metadata": {},
     "output_type": "execute_result"
    }
   ],
   "source": [
    "table = tap_records.to_table()\n",
    "data = table.to_pandas()\n",
    "data_dict = data.to_dict(orient='records')  # Convert to list of dictionaries\n",
    "\n",
    "# Save to JSON file\n",
    "with open('star.json', 'w') as f:\n",
    "    json.dump(data_dict, f, indent=4)\n",
    "\n",
    "data.to_csv('data_lakehouse/bronze/starB.csv', index=False)  \n",
    "data"
   ]
  },
  {
   "cell_type": "code",
   "execution_count": 19,
   "id": "18acf941-7478-424a-a9e4-8ccced33347c",
   "metadata": {},
   "outputs": [
    {
     "data": {
      "text/plain": [
       "recno        0\n",
       "subCl        0\n",
       "SpT          0\n",
       "Teff1     8022\n",
       "logg1     8023\n",
       "FeH1      8022\n",
       "Vmag      1261\n",
       "Teff2     1877\n",
       "logg2     3564\n",
       "FeH2     11824\n",
       "Rad       2433\n",
       "Mass      3564\n",
       "Lum       3563\n",
       "dtype: int64"
      ]
     },
     "execution_count": 19,
     "metadata": {},
     "output_type": "execute_result"
    }
   ],
   "source": [
    "missing_values_count = data.isnull().sum()\n",
    "\n",
    "missing_values_count"
   ]
  },
  {
   "cell_type": "code",
   "execution_count": 20,
   "id": "f17e9858-3e3a-4373-a5a4-ad81ef347f22",
   "metadata": {},
   "outputs": [
    {
     "name": "stdout",
     "output_type": "stream",
     "text": [
      "21635\n",
      "21635\n"
     ]
    }
   ],
   "source": [
    "print( len( data['recno'] ) )\n",
    "print( data['recno'].nunique() )"
   ]
  },
  {
   "cell_type": "code",
   "execution_count": 21,
   "id": "a423cd57-bf4d-4d6a-a434-560eeeb0c185",
   "metadata": {},
   "outputs": [
    {
     "name": "stdout",
     "output_type": "stream",
     "text": [
      "NUmber of subclasses: 26\n",
      "NUmber of SpT: 978\n"
     ]
    }
   ],
   "source": [
    "print( 'NUmber of subclasses: ' + str(data['subCl'].nunique() ) )\n",
    "print( 'NUmber of SpT: ' + str(data['SpT'].nunique() ) )"
   ]
  },
  {
   "cell_type": "code",
   "execution_count": 22,
   "id": "45fdb5f4-9666-4497-9b96-8968a8f23152",
   "metadata": {},
   "outputs": [
    {
     "name": "stdout",
     "output_type": "stream",
     "text": [
      "recno: 0 NaNs\n",
      "subCl: 0 NaNs\n",
      "SpT: 0 NaNs\n",
      "Teff1: 8022 NaNs\n",
      "logg1: 8023 NaNs\n",
      "FeH1: 8022 NaNs\n",
      "Vmag: 1261 NaNs\n",
      "Teff2: 1877 NaNs\n",
      "logg2: 3564 NaNs\n",
      "FeH2: 11824 NaNs\n",
      "Rad: 2433 NaNs\n",
      "Mass: 3564 NaNs\n",
      "Lum: 3563 NaNs\n"
     ]
    }
   ],
   "source": [
    "for column in data.columns:\n",
    "    print(column + ': ' + str(data[column].isnull().sum()) + ' NaNs' )"
   ]
  },
  {
   "cell_type": "code",
   "execution_count": 16,
   "id": "afb4386d-c572-4aab-a05e-d1007ba2d124",
   "metadata": {},
   "outputs": [
    {
     "data": {
      "text/plain": [
       "array([ 324.,  -74., -112., ..., -319.,   nan,   nan], shape=(21634,))"
      ]
     },
     "execution_count": 16,
     "metadata": {},
     "output_type": "execute_result"
    }
   ],
   "source": [
    "np.diff(data['Teff1'])"
   ]
  },
  {
   "cell_type": "code",
   "execution_count": null,
   "id": "f9c637c1-4f7d-4b44-8b64-431ee86fe44b",
   "metadata": {},
   "outputs": [],
   "source": []
  }
 ],
 "metadata": {
  "kernelspec": {
   "display_name": "Python 3 (ipykernel)",
   "language": "python",
   "name": "python3"
  },
  "language_info": {
   "codemirror_mode": {
    "name": "ipython",
    "version": 3
   },
   "file_extension": ".py",
   "mimetype": "text/x-python",
   "name": "python",
   "nbconvert_exporter": "python",
   "pygments_lexer": "ipython3",
   "version": "3.13.3"
  }
 },
 "nbformat": 4,
 "nbformat_minor": 5
}
